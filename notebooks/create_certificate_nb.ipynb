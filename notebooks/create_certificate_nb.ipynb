{
 "cells": [
  {
   "cell_type": "markdown",
   "metadata": {},
   "source": [
    "# Create Certificates for Neurotransmitiendo or AACC Webinars Assistence"
   ]
  },
  {
   "cell_type": "markdown",
   "metadata": {},
   "source": [
    "author: Axel Casas  \n",
    "mail: axel.em.casas@gmail.com  \n",
    "linkedin: https://www.linkedin.com/in/axel-casas/  \n",
    "\n",
    "In this notebook we will use a create_certificate function to automate the creation of multiple certificates in seconds."
   ]
  },
  {
   "cell_type": "markdown",
   "metadata": {},
   "source": [
    "## Step 1: import modules"
   ]
  },
  {
   "cell_type": "code",
   "execution_count": 7,
   "metadata": {},
   "outputs": [],
   "source": [
    "import pandas as pd \n",
    "from PIL import Image, ImageDraw, ImageFont\n",
    "import io\n",
    "import os\n",
    "import sys\n",
    "\n",
    "module_path = os.path.abspath(os.path.join('..'))\n",
    "if module_path not in sys.path:\n",
    "    sys.path.append(module_path)\n",
    "\n",
    "# 2 python functions to create certificates for neurotransmitiendo or AACC\n",
    "from create_certificate_no_app import create_certificate_no_app_nt, create_certificate_no_app_aacc"
   ]
  },
  {
   "cell_type": "markdown",
   "metadata": {},
   "source": [
    "## Step 2: Load CSV file"
   ]
  },
  {
   "cell_type": "markdown",
   "metadata": {},
   "source": [
    "Change column names if necessary"
   ]
  },
  {
   "cell_type": "code",
   "execution_count": null,
   "metadata": {},
   "outputs": [],
   "source": [
    "data = pd.read_csv('data/your_data.csv')\n",
    "\n",
    "data = data.drop(columns=({'Marca temporal'}))\n",
    "data = data.rename(columns={\n",
    "    'Correo electrónico. Por favor, asegurarse de que esté escrito correctamente.':'mail',\n",
    "    'APELLIDO/S, NOMBRE/S:' : 'nombre_apellido'\n",
    "})\n",
    "data.head(10)"
   ]
  },
  {
   "cell_type": "code",
   "execution_count": null,
   "metadata": {},
   "outputs": [],
   "source": [
    "# number of rows and columns\n",
    "data.shape"
   ]
  },
  {
   "cell_type": "markdown",
   "metadata": {},
   "source": [
    "## Step 3: Set Variables and call create_certificate function"
   ]
  },
  {
   "cell_type": "markdown",
   "metadata": {},
   "source": [
    "For the create_certificate() function we need 4 arguments:\n",
    "\n",
    "1. Names: the name that will display on the certificate.\n",
    "\n",
    "2. Certificate: the certificate template we'll write in.\n",
    "\n",
    "3. ID: the certificate ID that will display on the certificate.\n",
    "\n",
    "4. Output_folder: where the new certificates will be stored."
   ]
  },
  {
   "cell_type": "code",
   "execution_count": 6,
   "metadata": {},
   "outputs": [],
   "source": [
    "names = data['nombre_apellido'] #the dataframe column for the names\n",
    "certificate_template = 'data/your_template.jpg' #the template you wann use for your certificates\n",
    "output_folder = 'certificates' #the folder where you will store the certficates (already created in this repository)\n",
    "\n",
    "# call function\n",
    "create_certificate_no_app_nt(names, certificate_template, output_folder) "
   ]
  }
 ],
 "metadata": {
  "kernelspec": {
   "display_name": "base",
   "language": "python",
   "name": "python3"
  },
  "language_info": {
   "codemirror_mode": {
    "name": "ipython",
    "version": 3
   },
   "file_extension": ".py",
   "mimetype": "text/x-python",
   "name": "python",
   "nbconvert_exporter": "python",
   "pygments_lexer": "ipython3",
   "version": "3.10.13"
  }
 },
 "nbformat": 4,
 "nbformat_minor": 2
}
