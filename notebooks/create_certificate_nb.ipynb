{
 "cells": [
  {
   "cell_type": "markdown",
   "metadata": {},
   "source": [
    "# Create Certificates for Neurotransmitiendo Webinars Assistence"
   ]
  },
  {
   "cell_type": "code",
   "execution_count": 1,
   "metadata": {},
   "outputs": [],
   "source": [
    "import pandas as pd \n",
    "from PIL import Image, ImageDraw, ImageFont\n",
    "import io\n",
    "from create_certificate_no_app import create_certificate_no_app"
   ]
  },
  {
   "cell_type": "markdown",
   "metadata": {},
   "source": [
    "## Step 1: Load Data"
   ]
  },
  {
   "cell_type": "code",
   "execution_count": 7,
   "metadata": {},
   "outputs": [
    {
     "data": {
      "text/html": [
       "<div>\n",
       "<style scoped>\n",
       "    .dataframe tbody tr th:only-of-type {\n",
       "        vertical-align: middle;\n",
       "    }\n",
       "\n",
       "    .dataframe tbody tr th {\n",
       "        vertical-align: top;\n",
       "    }\n",
       "\n",
       "    .dataframe thead th {\n",
       "        text-align: right;\n",
       "    }\n",
       "</style>\n",
       "<table border=\"1\" class=\"dataframe\">\n",
       "  <thead>\n",
       "    <tr style=\"text-align: right;\">\n",
       "      <th></th>\n",
       "      <th>mail</th>\n",
       "      <th>nombre_apellido</th>\n",
       "      <th>DNI</th>\n",
       "    </tr>\n",
       "  </thead>\n",
       "  <tbody>\n",
       "    <tr>\n",
       "      <th>0</th>\n",
       "      <td>albornozmily@gmail.com</td>\n",
       "      <td>ALBORNOZ, MILAGROS EVELYN</td>\n",
       "      <td>41024394</td>\n",
       "    </tr>\n",
       "    <tr>\n",
       "      <th>1</th>\n",
       "      <td>melanie.arakaki92@gmail.com</td>\n",
       "      <td>Arakaki, Melanie</td>\n",
       "      <td>37038506</td>\n",
       "    </tr>\n",
       "    <tr>\n",
       "      <th>2</th>\n",
       "      <td>paulavarellano@gmail.com</td>\n",
       "      <td>Arellano, Paula Virginia</td>\n",
       "      <td>39008253</td>\n",
       "    </tr>\n",
       "    <tr>\n",
       "      <th>3</th>\n",
       "      <td>aryvllejos@gmail.com</td>\n",
       "      <td>Ariana Vallejos</td>\n",
       "      <td>42789487</td>\n",
       "    </tr>\n",
       "    <tr>\n",
       "      <th>4</th>\n",
       "      <td>camibagliani99@gmail.com</td>\n",
       "      <td>BAGLIANI, MARÍA CAMILA</td>\n",
       "      <td>41696238</td>\n",
       "    </tr>\n",
       "    <tr>\n",
       "      <th>5</th>\n",
       "      <td>candelariabarrera15@gmail.com</td>\n",
       "      <td>BARRERA, MARIA CANDELARIA</td>\n",
       "      <td>44607682</td>\n",
       "    </tr>\n",
       "    <tr>\n",
       "      <th>6</th>\n",
       "      <td>indalecioberges.acad@gmail.com</td>\n",
       "      <td>BERGES, INDALECIO</td>\n",
       "      <td>45682511</td>\n",
       "    </tr>\n",
       "    <tr>\n",
       "      <th>7</th>\n",
       "      <td>solberns09@gmail.com</td>\n",
       "      <td>Berns, Sol Candela</td>\n",
       "      <td>44669651</td>\n",
       "    </tr>\n",
       "    <tr>\n",
       "      <th>8</th>\n",
       "      <td>pedrobiancomilatich@gmail.com</td>\n",
       "      <td>Bianco Milatich, Pedro</td>\n",
       "      <td>45246644</td>\n",
       "    </tr>\n",
       "    <tr>\n",
       "      <th>9</th>\n",
       "      <td>carolinabustos@gmail.com</td>\n",
       "      <td>Bustos Castro, Carolina Andrea</td>\n",
       "      <td>60183573W</td>\n",
       "    </tr>\n",
       "  </tbody>\n",
       "</table>\n",
       "</div>"
      ],
      "text/plain": [
       "                             mail                 nombre_apellido        DNI\n",
       "0          albornozmily@gmail.com       ALBORNOZ, MILAGROS EVELYN   41024394\n",
       "1     melanie.arakaki92@gmail.com                Arakaki, Melanie   37038506\n",
       "2        paulavarellano@gmail.com        Arellano, Paula Virginia   39008253\n",
       "3            aryvllejos@gmail.com                 Ariana Vallejos   42789487\n",
       "4        camibagliani99@gmail.com          BAGLIANI, MARÍA CAMILA   41696238\n",
       "5   candelariabarrera15@gmail.com      BARRERA, MARIA CANDELARIA    44607682\n",
       "6  indalecioberges.acad@gmail.com               BERGES, INDALECIO   45682511\n",
       "7            solberns09@gmail.com              Berns, Sol Candela   44669651\n",
       "8   pedrobiancomilatich@gmail.com          Bianco Milatich, Pedro   45246644\n",
       "9        carolinabustos@gmail.com  Bustos Castro, Carolina Andrea  60183573W"
      ]
     },
     "execution_count": 7,
     "metadata": {},
     "output_type": "execute_result"
    }
   ],
   "source": [
    "data = pd.read_csv('data/charla_psicodelicos.csv')\n",
    "data = data.drop(columns=({'Marca temporal'}))\n",
    "data = data.rename(columns={\n",
    "    'Correo electrónico. Por favor, asegurarse de que esté escrito correctamente.':'mail',\n",
    "    'APELLIDO/S, NOMBRE/S:' : 'nombre_apellido'\n",
    "})\n",
    "data.head(10)"
   ]
  },
  {
   "cell_type": "code",
   "execution_count": 5,
   "metadata": {},
   "outputs": [
    {
     "data": {
      "text/plain": [
       "(75, 3)"
      ]
     },
     "execution_count": 5,
     "metadata": {},
     "output_type": "execute_result"
    }
   ],
   "source": [
    "data.shape"
   ]
  },
  {
   "cell_type": "markdown",
   "metadata": {},
   "source": [
    "## Step 2: Define Variables"
   ]
  },
  {
   "cell_type": "code",
   "execution_count": 6,
   "metadata": {},
   "outputs": [],
   "source": [
    "names = data['nombre_apellido']\n",
    "certificate_template = 'data/psicodelicos_template.jpg'\n",
    "output_folder = 'certificates'"
   ]
  },
  {
   "cell_type": "markdown",
   "metadata": {},
   "source": [
    "## Step 3: Create Certificates"
   ]
  },
  {
   "cell_type": "code",
   "execution_count": 8,
   "metadata": {},
   "outputs": [
    {
     "name": "stdout",
     "output_type": "stream",
     "text": [
      "Creating your certificates...\n",
      "Saved certificate for ALBORNOZ MILAGROS EVELYN at certificates/ALBORNOZ MILAGROS EVELYN.pdf\n",
      "Saved certificate for ARAKAKI MELANIE at certificates/ARAKAKI MELANIE.pdf\n",
      "Saved certificate for ARELLANO PAULA VIRGINIA at certificates/ARELLANO PAULA VIRGINIA.pdf\n",
      "Saved certificate for ARIANA VALLEJOS at certificates/ARIANA VALLEJOS.pdf\n",
      "Saved certificate for BAGLIANI MARÍA CAMILA at certificates/BAGLIANI MARÍA CAMILA.pdf\n",
      "Saved certificate for BARRERA MARIA CANDELARIA at certificates/BARRERA MARIA CANDELARIA.pdf\n",
      "Saved certificate for BERGES INDALECIO at certificates/BERGES INDALECIO.pdf\n",
      "Saved certificate for BERNS SOL CANDELA at certificates/BERNS SOL CANDELA.pdf\n",
      "Saved certificate for BIANCO MILATICH PEDRO at certificates/BIANCO MILATICH PEDRO.pdf\n",
      "Saved certificate for BUSTOS CASTRO CAROLINA ANDREA at certificates/BUSTOS CASTRO CAROLINA ANDREA.pdf\n",
      "Saved certificate for CANO LEONARDO ARIEL at certificates/CANO LEONARDO ARIEL.pdf\n",
      "Saved certificate for CAÑIZALES OLMOS YANETTY SOLIMAR at certificates/CAÑIZALES OLMOS YANETTY SOLIMAR.pdf\n",
      "Saved certificate for CARDOZO DENIS FRANCO ARIEL at certificates/CARDOZO DENIS FRANCO ARIEL.pdf\n",
      "Saved certificate for CATANZARO SOFIA at certificates/CATANZARO SOFIA.pdf\n",
      "Saved certificate for CEBALLOS RUMACHELLA CONRADO at certificates/CEBALLOS RUMACHELLA CONRADO.pdf\n",
      "Saved certificate for CORREA KIARA at certificates/CORREA KIARA.pdf\n",
      "Saved certificate for CORVALAN KAREN MICAELA at certificates/CORVALAN KAREN MICAELA.pdf\n",
      "Saved certificate for COSTA ALMIRON MALENA at certificates/COSTA ALMIRON MALENA.pdf\n",
      "Saved certificate for DAVICINO SOFIA at certificates/DAVICINO SOFIA.pdf\n",
      "Saved certificate for DE LOS SANTOS QUENIA at certificates/DE LOS SANTOS QUENIA.pdf\n",
      "Saved certificate for DI GENOVA VALERIE at certificates/DI GENOVA VALERIE.pdf\n",
      "Saved certificate for DI LAURI MARIELA at certificates/DI LAURI MARIELA.pdf\n",
      "Saved certificate for DOMÍNGUEZ OLIVIA at certificates/DOMÍNGUEZ OLIVIA.pdf\n",
      "Saved certificate for DREES; VERÓNICA CLAUDIA at certificates/DREES; VERÓNICA CLAUDIA.pdf\n",
      "Saved certificate for FERNÁNDEZ VALENTINA NAHIR at certificates/FERNÁNDEZ VALENTINA NAHIR.pdf\n",
      "Saved certificate for FLORES FLORENCIA at certificates/FLORES FLORENCIA.pdf\n",
      "Saved certificate for GARCIA IGARZA HUMBERTO FRANCISCO at certificates/GARCIA IGARZA HUMBERTO FRANCISCO.pdf\n",
      "Saved certificate for GULA FLORENCIA CAMILA at certificates/GULA FLORENCIA CAMILA.pdf\n",
      "Saved certificate for GUTIÉRREZ ESCOBEDO ROSA at certificates/GUTIÉRREZ ESCOBEDO ROSA.pdf\n",
      "Saved certificate for GUTIERREZ CANDELARIA at certificates/GUTIERREZ CANDELARIA.pdf\n",
      "Saved certificate for IMBURGIA STELLA MARIS at certificates/IMBURGIA STELLA MARIS.pdf\n",
      "Saved certificate for JULIETA BRUSCHINI at certificates/JULIETA BRUSCHINI.pdf\n",
      "Saved certificate for LAGOSTENA ARACELI BELEN at certificates/LAGOSTENA ARACELI BELEN.pdf\n",
      "Saved certificate for LANDEIRA JUAN CRUZ at certificates/LANDEIRA JUAN CRUZ.pdf\n",
      "Saved certificate for LANZA MARTINA VICTORIA at certificates/LANZA MARTINA VICTORIA.pdf\n",
      "Saved certificate for LANZA MARTINA at certificates/LANZA MARTINA.pdf\n",
      "Saved certificate for LAUFER MAYA at certificates/LAUFER MAYA.pdf\n",
      "Saved certificate for LAUTARO BAQUERO at certificates/LAUTARO BAQUERO.pdf\n",
      "Saved certificate for LEZCANO YANINA ALEJANDRA at certificates/LEZCANO YANINA ALEJANDRA.pdf\n",
      "Saved certificate for LINARES MAITE at certificates/LINARES MAITE.pdf\n",
      "Saved certificate for LÓPEZ RENATO at certificates/LÓPEZ RENATO.pdf\n",
      "Saved certificate for LUCAS SILVEIRA CAMILA GIMENA at certificates/LUCAS SILVEIRA CAMILA GIMENA.pdf\n",
      "Saved certificate for LUZZI AGUSTINA at certificates/LUZZI AGUSTINA.pdf\n",
      "Saved certificate for LUZZI AGUSTINA at certificates/LUZZI AGUSTINA.pdf\n",
      "Saved certificate for MACIEL LILÉN at certificates/MACIEL LILÉN.pdf\n",
      "Saved certificate for MAMANI MARTINEZ JAQUELINE at certificates/MAMANI MARTINEZ JAQUELINE.pdf\n",
      "Saved certificate for MARIANI MAXIMO at certificates/MARIANI MAXIMO.pdf\n",
      "Saved certificate for MARTIN MARIA CECILIA at certificates/MARTIN MARIA CECILIA.pdf\n",
      "Saved certificate for MARTINENGO EZEQUIEL at certificates/MARTINENGO EZEQUIEL.pdf\n",
      "Saved certificate for MATIAS VIGAR at certificates/MATIAS VIGAR.pdf\n",
      "Saved certificate for MERIÑO FERNÁNDEZ GUILLERMO RICARDO at certificates/MERIÑO FERNÁNDEZ GUILLERMO RICARDO.pdf\n",
      "Saved certificate for MURANO AGUSTINA ROCIO at certificates/MURANO AGUSTINA ROCIO.pdf\n",
      "Saved certificate for NATALIA SÁ at certificates/NATALIA SÁ.pdf\n",
      "Saved certificate for PARRA MIMENA MARIA at certificates/PARRA MIMENA MARIA.pdf\n",
      "Saved certificate for PERALTA AGUSTINA NATALIA at certificates/PERALTA AGUSTINA NATALIA.pdf\n",
      "Saved certificate for PÉREZ FARÍAS VALENTINA at certificates/PÉREZ FARÍAS VALENTINA.pdf\n",
      "Saved certificate for PORTILLO SÁNCHEZ FLORENCIA ROMINA at certificates/PORTILLO SÁNCHEZ FLORENCIA ROMINA.pdf\n",
      "Saved certificate for PRESENTADO AYLEN SOLEDAD at certificates/PRESENTADO AYLEN SOLEDAD.pdf\n",
      "Saved certificate for QUEVEDO MARIANA INÉS at certificates/QUEVEDO MARIANA INÉS.pdf\n",
      "Saved certificate for RABINI LUCÍA at certificates/RABINI LUCÍA.pdf\n",
      "Saved certificate for RAGES CAMILA SOLEDAD at certificates/RAGES CAMILA SOLEDAD.pdf\n",
      "Saved certificate for RIJA MARTÍN EDUARDO at certificates/RIJA MARTÍN EDUARDO.pdf\n",
      "Saved certificate for ROJAS ROMERO YULIANA at certificates/ROJAS ROMERO YULIANA.pdf\n",
      "Saved certificate for ROJAS SANCHEZ MILAGROS at certificates/ROJAS SANCHEZ MILAGROS.pdf\n",
      "Saved certificate for ROMANO MORA at certificates/ROMANO MORA.pdf\n",
      "Saved certificate for SANCHEZ LUCA THOMAS at certificates/SANCHEZ LUCA THOMAS.pdf\n",
      "Saved certificate for SCHIMIDT ANA FLAVIA at certificates/SCHIMIDT ANA FLAVIA.pdf\n",
      "Saved certificate for SCHLOTTHAUER JOAQUÍN at certificates/SCHLOTTHAUER JOAQUÍN.pdf\n",
      "Saved certificate for VAODRI NICOLE AGUSTINA at certificates/VAODRI NICOLE AGUSTINA.pdf\n",
      "Saved certificate for VELEZ HERNANDEZ EMMANUEL at certificates/VELEZ HERNANDEZ EMMANUEL.pdf\n",
      "Saved certificate for VIDAL FLORENCIA at certificates/VIDAL FLORENCIA.pdf\n",
      "Saved certificate for VIDEGUREN MANUEL ALEJANDRO at certificates/VIDEGUREN MANUEL ALEJANDRO.pdf\n",
      "Saved certificate for VITULLO CAMILA at certificates/VITULLO CAMILA.pdf\n",
      "Saved certificate for YAÑEZ PAULA LUCIA at certificates/YAÑEZ PAULA LUCIA.pdf\n",
      "Saved certificate for ZORRILLA JUAN JOSÉ at certificates/ZORRILLA JUAN JOSÉ.pdf\n"
     ]
    }
   ],
   "source": [
    "create_certificate(names, certificate_template, output_folder)"
   ]
  }
 ],
 "metadata": {
  "kernelspec": {
   "display_name": "base",
   "language": "python",
   "name": "python3"
  },
  "language_info": {
   "codemirror_mode": {
    "name": "ipython",
    "version": 3
   },
   "file_extension": ".py",
   "mimetype": "text/x-python",
   "name": "python",
   "nbconvert_exporter": "python",
   "pygments_lexer": "ipython3",
   "version": "3.10.13"
  }
 },
 "nbformat": 4,
 "nbformat_minor": 2
}
